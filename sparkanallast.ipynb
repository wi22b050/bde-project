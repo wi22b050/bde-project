{
 "cells": [
  {
   "cell_type": "code",
   "execution_count": 1,
   "id": "38c27777",
   "metadata": {},
   "outputs": [
    {
     "name": "stderr",
     "output_type": "stream",
     "text": [
      "INFO:root:Starting Spark session...\n",
      "INFO:root:Spark session started successfully.\n",
      "INFO:root:Creating Spark DataFrame...\n",
      "INFO:root:Spark DataFrame created successfully.\n"
     ]
    },
    {
     "name": "stdout",
     "output_type": "stream",
     "text": [
      "root\n",
      " |-- Title: string (nullable = true)\n",
      " |-- Director: string (nullable = true)\n",
      " |-- IMDb_Rating: float (nullable = true)\n",
      " |-- RT_Rating: float (nullable = true)\n",
      " |-- BoxOffice: float (nullable = true)\n",
      "\n",
      "+-----------------------------+---------------+-----------+---------+------------+\n",
      "|Title                        |Director       |IMDb_Rating|RT_Rating|BoxOffice   |\n",
      "+-----------------------------+---------------+-----------+---------+------------+\n",
      "|Raging Bull                  |Martin Scorsese|8.1        |0.92     |2.3383988E7 |\n",
      "|The King of Comedy           |Martin Scorsese|7.8        |0.89     |2536242.0   |\n",
      "|After Hours                  |Martin Scorsese|7.6        |0.9      |1.0609321E7 |\n",
      "|The Color of Money           |Martin Scorsese|7.0        |0.88     |5.2293984E7 |\n",
      "|The Last Temptation of Christ|Martin Scorsese|7.5        |0.82     |8373585.0   |\n",
      "|Goodfellas                   |Martin Scorsese|8.7        |0.95     |4.690972E7  |\n",
      "|Cape Fear                    |Martin Scorsese|7.3        |0.75     |7.909197E7  |\n",
      "|The Age of Innocence         |Martin Scorsese|7.2        |0.88     |3.225544E7  |\n",
      "|Casino                       |Martin Scorsese|8.2        |0.78     |4.2512376E7 |\n",
      "|Kundun                       |Martin Scorsese|7.0        |0.74     |5684789.0   |\n",
      "|Bringing Out the Dead        |Martin Scorsese|6.9        |0.73     |1.6797192E7 |\n",
      "|Gangs of New York            |Martin Scorsese|7.5        |0.73     |7.7812E7    |\n",
      "|The Aviator                  |Martin Scorsese|7.5        |0.87     |1.0261033E8 |\n",
      "|The Departed                 |Martin Scorsese|8.5        |0.91     |1.3239939E8 |\n",
      "|Shutter Island               |Martin Scorsese|8.2        |0.69     |1.28012936E8|\n",
      "|Hugo                         |Martin Scorsese|7.5        |0.93     |7.3864504E7 |\n",
      "|The Wolf of Wall Street      |Martin Scorsese|8.2        |0.8      |1.16900696E8|\n",
      "|Silence                      |Martin Scorsese|7.2        |0.83     |7100177.0   |\n",
      "|The Irishman                 |Martin Scorsese|7.8        |0.95     |0.0         |\n",
      "|The Terminator               |James Cameron  |8.1        |1.0      |3.83712E7   |\n",
      "+-----------------------------+---------------+-----------+---------+------------+\n",
      "only showing top 20 rows\n",
      "\n",
      "+-----------------------------------------+---------------+------------------+------------------+\n",
      "|Director                                 |Total_BoxOffice|Avg_IMDb_Rating   |Avg_RT_Rating     |\n",
      "+-----------------------------------------+---------------+------------------+------------------+\n",
      "|Martin Scorsese                          |9.59148638E8   |7.668421042592902 |0.839473683583109 |\n",
      "|James Cameron                            |1.990190408E9  |7.9571429661342075|0.8814285738127572|\n",
      "|Quentin Tarantino                        |7.66707477E8   |8.133333259158665 |0.8622222211625841|\n",
      "|David Fincher                            |8.65185356E8   |7.750000143051148 |0.7949999958276749|\n",
      "|Peter Jackson                            |2.141527238E9  |7.76363637230613  |0.7681818116794933|\n",
      "|Christopher Nolan                        |2.064890986E9  |8.15454539385709  |0.8490909121253274|\n",
      "|Andrew Stanton, Lee Unkrich              |3.80843264E8   |8.199999809265137 |0.9900000095367432|\n",
      "|Pete Docter, David Silverman, Lee Unkrich|2.9064224E8    |8.100000381469727 |0.9599999785423279|\n",
      "|Anthony Russo, Joe Russo                 |2.28066752E9   |7.579999828338623 |0.7579999953508377|\n",
      "|Lee Unkrich, Adrian Molina               |2.10460016E8   |8.399999618530273 |0.9700000286102295|\n",
      "|Lee Unkrich                              |4.15004864E8   |8.300000190734863 |0.9800000190734863|\n",
      "|Pete Docter, Ronnie Del Carmen           |3.56921696E8   |8.100000381469727 |0.9800000190734863|\n",
      "|Andrew Stanton                           |2.96886256E8   |7.499999761581421 |0.7349999845027924|\n",
      "|Andrew Stanton, Angus MacLane            |4.86295552E8   |7.199999809265137 |0.9399999976158142|\n",
      "|Pete Docter, Bob Peterson                |2.9300416E8    |8.300000190734863 |0.9800000190734863|\n",
      "+-----------------------------------------+---------------+------------------+------------------+\n",
      "\n",
      "Data processing and aggregation completed.\n"
     ]
    }
   ],
   "source": [
    "import json\n",
    "import os\n",
    "from pyspark.sql import SparkSession\n",
    "from pyspark.sql.types import StructType, StructField, StringType, FloatType\n",
    "from pyspark.sql.functions import avg, sum as _sum\n",
    "\n",
    "import logging\n",
    "logging.basicConfig(level=logging.INFO)\n",
    "\n",
    "\n",
    "with open('director_data_new111.json', 'r') as f:\n",
    "    director_dict = json.load(f)\n",
    "\n",
    "try:\n",
    "    logging.info(\"Starting Spark session...\")\n",
    "    spark = SparkSession.builder \\\n",
    "        .appName(\"OMDB Data Analysis\") \\\n",
    "        .getOrCreate()\n",
    "    logging.info(\"Spark session started successfully.\")\n",
    "except Exception as e:\n",
    "    logging.error(f\"Error starting Spark session: {e}\")\n",
    "    raise e\n",
    "\n",
    "schema = StructType([\n",
    "    StructField(\"Title\", StringType(), True),\n",
    "    StructField(\"Director\", StringType(), True),\n",
    "    StructField(\"IMDb_Rating\", FloatType(), True),\n",
    "    StructField(\"RT_Rating\", FloatType(), True),\n",
    "    StructField(\"BoxOffice\", FloatType(), True)\n",
    "])\n",
    "\n",
    "parquet_data = []\n",
    "for director, movies in director_dict.items():\n",
    "    for title, info in movies.items():\n",
    "        imdb_rating = float(info['imdb_rating']) if 'imdb_rating' in info else None\n",
    "        rt_rating = float(info['rt_rating']) / 10 if 'rt_rating' in info else None \n",
    "        box_office = float(info['box_office']) if 'box_office' in info else None\n",
    "        parquet_data.append((title, director, imdb_rating, rt_rating, box_office))\n",
    "\n",
    "\n",
    "try:\n",
    "    logging.info(\"Creating Spark DataFrame...\")\n",
    "    parquet_df = spark.createDataFrame(parquet_data, schema=schema)\n",
    "    logging.info(\"Spark DataFrame created successfully.\")\n",
    "except Exception as e:\n",
    "    logging.error(f\"Error creating Spark DataFrame: {e}\")\n",
    "    raise e\n",
    "\n",
    "\n",
    "parquet_df.printSchema()\n",
    "parquet_df.show(truncate=False)\n",
    "\n",
    "\n",
    "aggregated_df = parquet_df.groupBy('Director').agg(\n",
    "    _sum('BoxOffice').alias('Total_BoxOffice'),\n",
    "    avg('IMDb_Rating').alias('Avg_IMDb_Rating'),\n",
    "    avg('RT_Rating').alias('Avg_RT_Rating')\n",
    ")\n",
    "\n",
    "aggregated_df.show(truncate=False)\n",
    "\n",
    "print(\"Data processing and aggregation completed.\")\n"
   ]
  },
  {
   "cell_type": "code",
   "execution_count": 6,
   "id": "8f158f23",
   "metadata": {},
   "outputs": [
    {
     "name": "stdout",
     "output_type": "stream",
     "text": [
      "Aggregated data exported to CSV.\n"
     ]
    }
   ],
   "source": [
    "aggregated_df.write.mode('overwrite').csv('aggregated_directors.csv', header=True)\n",
    "\n",
    "print(\"Aggregated data exported to CSV.\")\n",
    "\n"
   ]
  },
  {
   "cell_type": "code",
   "execution_count": null,
   "id": "2d85431e",
   "metadata": {},
   "outputs": [],
   "source": []
  }
 ],
 "metadata": {
  "kernelspec": {
   "display_name": "Python 3",
   "language": "python",
   "name": "python3"
  },
  "language_info": {
   "codemirror_mode": {
    "name": "ipython",
    "version": 3
   },
   "file_extension": ".py",
   "mimetype": "text/x-python",
   "name": "python",
   "nbconvert_exporter": "python",
   "pygments_lexer": "ipython3",
   "version": "3.8.8"
  }
 },
 "nbformat": 4,
 "nbformat_minor": 5
}
